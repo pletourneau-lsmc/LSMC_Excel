{
 "cells": [
  {
   "cell_type": "markdown",
   "id": "680b93e3",
   "metadata": {},
   "source": [
    "# Extended Numerical Example with loop\n",
    "Here we extend the numerical example.\n",
    "\n",
    "We will price a 1-year option with monthly exercise possibilities.\n",
    "\n",
    "We will also use a strike of 1 instead of 1.1.\n",
    "\n",
    "We will simulate our own stock price process using a geometric Brownian motion model.  \n",
    "We assume a complete market with a risk-free interest rate of 5% and a stock volatility of 20%.\n",
    "\n",
    "The dynamics of the stock price $S_t$ is given by the following solution:\n",
    "\n",
    "$$\n",
    "S_{t} = S_{0} \\exp\\left( \\left(r_{f} - \\frac{1}{2} \\sigma^2\\right)t + \\sigma W_{t} \\right)\n",
    "$$\n",
    "\n",
    "where $S_0$ is the initial stock price, $r_f$ is the risk-free interest rate, $\\sigma$ is the volatility, and $W_t$ is a standard Brownian motion.\n"
   ]
  },
  {
   "cell_type": "code",
   "execution_count": 2,
   "id": "6ad9ac9e",
   "metadata": {},
   "outputs": [
    {
     "name": "stdout",
     "output_type": "stream",
     "text": [
      "S matrix:\n",
      " [[1.         1.03252901 1.12745597 1.18049337 1.15211647 1.14139504\n",
      "  1.05534539 1.10834918 1.12675004 1.0686514  1.11165927 1.13865066\n",
      "  1.30579773]\n",
      " [1.         0.99536143 0.98575126 0.99887669 0.99152647 1.01556144\n",
      "  0.99450413 0.94678693 1.02441329 1.07561838 1.0271018  1.06444261\n",
      "  0.9588487 ]\n",
      " [1.         1.04156839 1.0491284  1.04562637 0.98420128 1.07544523\n",
      "  1.05789538 1.15097009 1.05246011 1.12902595 1.06487838 1.13737608\n",
      "  1.18729606]\n",
      " [1.         1.09555984 1.01241743 0.99829153 0.93478416 0.9102567\n",
      "  0.87195732 0.8068501  0.81821986 0.78296054 0.80776501 0.86130253\n",
      "  0.78734691]\n",
      " [1.         0.98986618 0.96244136 0.88664437 0.93233156 0.8927829\n",
      "  0.88746132 0.92111093 0.93815779 0.99512866 0.98565238 0.91333003\n",
      "  0.89174804]\n",
      " [1.         0.98986712 0.99955298 0.96206428 1.0438981  1.01747723\n",
      "  1.04496927 1.1898019  1.24889445 1.283286   1.34175726 1.27528301\n",
      "  1.36256922]\n",
      " [1.         1.09911931 1.03188777 1.00816138 1.00733082 1.06554689\n",
      "  1.19210483 1.12960182 1.05525575 1.11024216 1.14480449 1.18329484\n",
      "  1.19166004]\n",
      " [1.         1.04879428 1.07537073 1.1468646  1.21933315 1.24684692\n",
      "  1.26368302 1.22711834 1.14084058 1.27712323 1.27601077 1.31881737\n",
      "  1.24339447]\n",
      " [1.         0.97650854 0.94637504 0.96856063 0.99229802 0.96562069\n",
      "  0.98335885 0.99233506 1.02610818 1.01505117 0.96984666 1.00245533\n",
      "  0.96511075]\n",
      " [1.         1.03526564 1.02137569 0.92560713 0.89474361 0.92473208\n",
      "  0.92384032 0.90036875 0.91899819 0.88280162 0.8115728  1.01713485\n",
      "  1.06136905]\n",
      " [1.         0.97685007 0.94664766 0.96774759 0.99145128 1.00035271\n",
      "  0.89844092 0.82424407 0.83904323 0.79970221 0.78195188 0.81085311\n",
      "  0.7799677 ]\n",
      " [1.         0.97671968 1.09059027 1.07017231 1.17345406 1.24509231\n",
      "  1.24733868 1.25646729 1.2861324  1.23105568 1.29777287 1.39033519\n",
      "  1.41252014]\n",
      " [1.         1.0174536  1.02005557 0.98423393 0.98547969 0.94949361\n",
      "  0.95598242 0.90211384 0.8702781  0.86930555 0.88305609 0.93617401\n",
      "  0.94177444]\n",
      " [1.         0.89840891 0.84800937 0.88142522 0.96797692 0.95300867\n",
      "  1.10232039 1.1366594  1.15585013 1.18277795 1.10437155 1.15052443\n",
      "  1.1117452 ]\n",
      " [1.         0.90823253 0.95558472 1.01757898 0.87766399 0.86088315\n",
      "  0.85421776 0.81276051 0.8293899  0.84555943 0.85690786 0.84426097\n",
      "  0.95869756]\n",
      " [1.         0.97128985 0.90820745 0.96157603 1.01167184 0.93280557\n",
      "  0.952357   1.04498604 1.00611237 1.05885119 1.08628562 1.13873344\n",
      "  1.18512623]\n",
      " [1.         0.94635028 0.96102926 0.91863231 0.92634334 0.94546303\n",
      "  0.94672062 0.90788364 1.01451921 1.01867098 0.97122474 0.93194346\n",
      "  0.83187635]\n",
      " [1.         1.02170869 0.91545702 0.90226148 0.88978023 0.9063086\n",
      "  0.85000271 0.83712939 0.86321927 0.94192146 0.95349154 0.94368381\n",
      "  0.95708235]\n",
      " [1.         0.95209405 0.88475812 0.90485357 0.91269729 0.91601509\n",
      "  0.98176019 1.03240762 0.96700362 0.95551991 0.96193763 0.93847899\n",
      "  0.90631375]\n",
      " [1.         0.92477385 0.93846761 0.99615692 0.89112596 0.88207336\n",
      "  0.9242859  0.8637564  0.90012195 1.05670688 0.99252931 1.00056176\n",
      "  1.05454585]]\n"
     ]
    }
   ],
   "source": [
    "# Set the initial variables for the script\n",
    "import numpy as np\n",
    "\n",
    "# Define parameters\n",
    "r = 0.06    # Interest rate\n",
    "K = 1.00    # Strike price\n",
    "# it is better to work in time-steps than in years\n",
    "dt = 1/12   # Time-step size in years\n",
    "nt = 12     # Number of time-steps\n",
    "T = nt*dt   # Total time to maturity in years\n",
    "\n",
    "N = 20      # Number of stock price paths to simulate\n",
    "\n",
    "# For the stock price, here, we will simulate from a Geometric Brownian motion\n",
    "# We assume a risk-neutral measure\n",
    "S0 = 1.00   # Initial stock price\n",
    "sigma = 0.2  # Volatility of the stock\n",
    "# Generate the stock price paths\n",
    "np.random.seed(42)  # For reproducibility\n",
    "# It is possible to simulate from a Geometric Brownian motion without using a loop\n",
    "# How ever, for clarity, we will use a loop here\n",
    "S = np.zeros((N, nt + 1))\n",
    "S[:, 0] = S0\n",
    "for i in range(1, nt + 1):\n",
    "    Z = np.random.normal(0, 1, N)  # Standard normal random variables\n",
    "    S[:, i] = S[:, i - 1] * np.exp((r - 0.5 * sigma**2) * dt + sigma * np.sqrt(dt) * Z)\n",
    "    \n",
    "\n",
    "\n",
    "print(\"S matrix:\\n\", S)\n",
    "\n"
   ]
  },
  {
   "cell_type": "code",
   "execution_count": 3,
   "id": "bb04d6e6",
   "metadata": {},
   "outputs": [
    {
     "ename": "ValueError",
     "evalue": "x and y must have same first dimension, but have shapes (4,) and (13,)",
     "output_type": "error",
     "traceback": [
      "\u001b[1;31m---------------------------------------------------------------------------\u001b[0m",
      "\u001b[1;31mValueError\u001b[0m                                Traceback (most recent call last)",
      "Cell \u001b[1;32mIn[3], line 8\u001b[0m\n\u001b[0;32m      6\u001b[0m plt\u001b[38;5;241m.\u001b[39mfigure(figsize\u001b[38;5;241m=\u001b[39m(\u001b[38;5;241m8\u001b[39m, \u001b[38;5;241m5\u001b[39m))\n\u001b[0;32m      7\u001b[0m \u001b[38;5;28;01mfor\u001b[39;00m i \u001b[38;5;129;01min\u001b[39;00m \u001b[38;5;28mrange\u001b[39m(S\u001b[38;5;241m.\u001b[39mshape[\u001b[38;5;241m0\u001b[39m]):\n\u001b[1;32m----> 8\u001b[0m     plt\u001b[38;5;241m.\u001b[39mplot(times, S[i], marker\u001b[38;5;241m=\u001b[39m\u001b[38;5;124m'\u001b[39m\u001b[38;5;124mo\u001b[39m\u001b[38;5;124m'\u001b[39m, label\u001b[38;5;241m=\u001b[39m\u001b[38;5;124mf\u001b[39m\u001b[38;5;124m'\u001b[39m\u001b[38;5;124mPath \u001b[39m\u001b[38;5;132;01m{\u001b[39;00mi\u001b[38;5;241m+\u001b[39m\u001b[38;5;241m1\u001b[39m\u001b[38;5;132;01m}\u001b[39;00m\u001b[38;5;124m'\u001b[39m)\n\u001b[0;32m      9\u001b[0m plt\u001b[38;5;241m.\u001b[39mxlabel(\u001b[38;5;124m'\u001b[39m\u001b[38;5;124mTime\u001b[39m\u001b[38;5;124m'\u001b[39m)\n\u001b[0;32m     10\u001b[0m plt\u001b[38;5;241m.\u001b[39mylabel(\u001b[38;5;124m'\u001b[39m\u001b[38;5;124mValue\u001b[39m\u001b[38;5;124m'\u001b[39m)\n",
      "File \u001b[1;32mc:\\Users\\p_h_d\\anaconda3\\Lib\\site-packages\\matplotlib\\pyplot.py:3794\u001b[0m, in \u001b[0;36mplot\u001b[1;34m(scalex, scaley, data, *args, **kwargs)\u001b[0m\n\u001b[0;32m   3786\u001b[0m \u001b[38;5;129m@_copy_docstring_and_deprecators\u001b[39m(Axes\u001b[38;5;241m.\u001b[39mplot)\n\u001b[0;32m   3787\u001b[0m \u001b[38;5;28;01mdef\u001b[39;00m \u001b[38;5;21mplot\u001b[39m(\n\u001b[0;32m   3788\u001b[0m     \u001b[38;5;241m*\u001b[39margs: \u001b[38;5;28mfloat\u001b[39m \u001b[38;5;241m|\u001b[39m ArrayLike \u001b[38;5;241m|\u001b[39m \u001b[38;5;28mstr\u001b[39m,\n\u001b[1;32m   (...)\u001b[0m\n\u001b[0;32m   3792\u001b[0m     \u001b[38;5;241m*\u001b[39m\u001b[38;5;241m*\u001b[39mkwargs,\n\u001b[0;32m   3793\u001b[0m ) \u001b[38;5;241m-\u001b[39m\u001b[38;5;241m>\u001b[39m \u001b[38;5;28mlist\u001b[39m[Line2D]:\n\u001b[1;32m-> 3794\u001b[0m     \u001b[38;5;28;01mreturn\u001b[39;00m gca()\u001b[38;5;241m.\u001b[39mplot(\n\u001b[0;32m   3795\u001b[0m         \u001b[38;5;241m*\u001b[39margs,\n\u001b[0;32m   3796\u001b[0m         scalex\u001b[38;5;241m=\u001b[39mscalex,\n\u001b[0;32m   3797\u001b[0m         scaley\u001b[38;5;241m=\u001b[39mscaley,\n\u001b[0;32m   3798\u001b[0m         \u001b[38;5;241m*\u001b[39m\u001b[38;5;241m*\u001b[39m({\u001b[38;5;124m\"\u001b[39m\u001b[38;5;124mdata\u001b[39m\u001b[38;5;124m\"\u001b[39m: data} \u001b[38;5;28;01mif\u001b[39;00m data \u001b[38;5;129;01mis\u001b[39;00m \u001b[38;5;129;01mnot\u001b[39;00m \u001b[38;5;28;01mNone\u001b[39;00m \u001b[38;5;28;01melse\u001b[39;00m {}),\n\u001b[0;32m   3799\u001b[0m         \u001b[38;5;241m*\u001b[39m\u001b[38;5;241m*\u001b[39mkwargs,\n\u001b[0;32m   3800\u001b[0m     )\n",
      "File \u001b[1;32mc:\\Users\\p_h_d\\anaconda3\\Lib\\site-packages\\matplotlib\\axes\\_axes.py:1779\u001b[0m, in \u001b[0;36mAxes.plot\u001b[1;34m(self, scalex, scaley, data, *args, **kwargs)\u001b[0m\n\u001b[0;32m   1536\u001b[0m \u001b[38;5;250m\u001b[39m\u001b[38;5;124;03m\"\"\"\u001b[39;00m\n\u001b[0;32m   1537\u001b[0m \u001b[38;5;124;03mPlot y versus x as lines and/or markers.\u001b[39;00m\n\u001b[0;32m   1538\u001b[0m \n\u001b[1;32m   (...)\u001b[0m\n\u001b[0;32m   1776\u001b[0m \u001b[38;5;124;03m(``'green'``) or hex strings (``'#008000'``).\u001b[39;00m\n\u001b[0;32m   1777\u001b[0m \u001b[38;5;124;03m\"\"\"\u001b[39;00m\n\u001b[0;32m   1778\u001b[0m kwargs \u001b[38;5;241m=\u001b[39m cbook\u001b[38;5;241m.\u001b[39mnormalize_kwargs(kwargs, mlines\u001b[38;5;241m.\u001b[39mLine2D)\n\u001b[1;32m-> 1779\u001b[0m lines \u001b[38;5;241m=\u001b[39m [\u001b[38;5;241m*\u001b[39m\u001b[38;5;28mself\u001b[39m\u001b[38;5;241m.\u001b[39m_get_lines(\u001b[38;5;28mself\u001b[39m, \u001b[38;5;241m*\u001b[39margs, data\u001b[38;5;241m=\u001b[39mdata, \u001b[38;5;241m*\u001b[39m\u001b[38;5;241m*\u001b[39mkwargs)]\n\u001b[0;32m   1780\u001b[0m \u001b[38;5;28;01mfor\u001b[39;00m line \u001b[38;5;129;01min\u001b[39;00m lines:\n\u001b[0;32m   1781\u001b[0m     \u001b[38;5;28mself\u001b[39m\u001b[38;5;241m.\u001b[39madd_line(line)\n",
      "File \u001b[1;32mc:\\Users\\p_h_d\\anaconda3\\Lib\\site-packages\\matplotlib\\axes\\_base.py:296\u001b[0m, in \u001b[0;36m_process_plot_var_args.__call__\u001b[1;34m(self, axes, data, *args, **kwargs)\u001b[0m\n\u001b[0;32m    294\u001b[0m     this \u001b[38;5;241m+\u001b[39m\u001b[38;5;241m=\u001b[39m args[\u001b[38;5;241m0\u001b[39m],\n\u001b[0;32m    295\u001b[0m     args \u001b[38;5;241m=\u001b[39m args[\u001b[38;5;241m1\u001b[39m:]\n\u001b[1;32m--> 296\u001b[0m \u001b[38;5;28;01myield from\u001b[39;00m \u001b[38;5;28mself\u001b[39m\u001b[38;5;241m.\u001b[39m_plot_args(\n\u001b[0;32m    297\u001b[0m     axes, this, kwargs, ambiguous_fmt_datakey\u001b[38;5;241m=\u001b[39mambiguous_fmt_datakey)\n",
      "File \u001b[1;32mc:\\Users\\p_h_d\\anaconda3\\Lib\\site-packages\\matplotlib\\axes\\_base.py:486\u001b[0m, in \u001b[0;36m_process_plot_var_args._plot_args\u001b[1;34m(self, axes, tup, kwargs, return_kwargs, ambiguous_fmt_datakey)\u001b[0m\n\u001b[0;32m    483\u001b[0m     axes\u001b[38;5;241m.\u001b[39myaxis\u001b[38;5;241m.\u001b[39mupdate_units(y)\n\u001b[0;32m    485\u001b[0m \u001b[38;5;28;01mif\u001b[39;00m x\u001b[38;5;241m.\u001b[39mshape[\u001b[38;5;241m0\u001b[39m] \u001b[38;5;241m!=\u001b[39m y\u001b[38;5;241m.\u001b[39mshape[\u001b[38;5;241m0\u001b[39m]:\n\u001b[1;32m--> 486\u001b[0m     \u001b[38;5;28;01mraise\u001b[39;00m \u001b[38;5;167;01mValueError\u001b[39;00m(\u001b[38;5;124mf\u001b[39m\u001b[38;5;124m\"\u001b[39m\u001b[38;5;124mx and y must have same first dimension, but \u001b[39m\u001b[38;5;124m\"\u001b[39m\n\u001b[0;32m    487\u001b[0m                      \u001b[38;5;124mf\u001b[39m\u001b[38;5;124m\"\u001b[39m\u001b[38;5;124mhave shapes \u001b[39m\u001b[38;5;132;01m{\u001b[39;00mx\u001b[38;5;241m.\u001b[39mshape\u001b[38;5;132;01m}\u001b[39;00m\u001b[38;5;124m and \u001b[39m\u001b[38;5;132;01m{\u001b[39;00my\u001b[38;5;241m.\u001b[39mshape\u001b[38;5;132;01m}\u001b[39;00m\u001b[38;5;124m\"\u001b[39m)\n\u001b[0;32m    488\u001b[0m \u001b[38;5;28;01mif\u001b[39;00m x\u001b[38;5;241m.\u001b[39mndim \u001b[38;5;241m>\u001b[39m \u001b[38;5;241m2\u001b[39m \u001b[38;5;129;01mor\u001b[39;00m y\u001b[38;5;241m.\u001b[39mndim \u001b[38;5;241m>\u001b[39m \u001b[38;5;241m2\u001b[39m:\n\u001b[0;32m    489\u001b[0m     \u001b[38;5;28;01mraise\u001b[39;00m \u001b[38;5;167;01mValueError\u001b[39;00m(\u001b[38;5;124mf\u001b[39m\u001b[38;5;124m\"\u001b[39m\u001b[38;5;124mx and y can be no greater than 2D, but have \u001b[39m\u001b[38;5;124m\"\u001b[39m\n\u001b[0;32m    490\u001b[0m                      \u001b[38;5;124mf\u001b[39m\u001b[38;5;124m\"\u001b[39m\u001b[38;5;124mshapes \u001b[39m\u001b[38;5;132;01m{\u001b[39;00mx\u001b[38;5;241m.\u001b[39mshape\u001b[38;5;132;01m}\u001b[39;00m\u001b[38;5;124m and \u001b[39m\u001b[38;5;132;01m{\u001b[39;00my\u001b[38;5;241m.\u001b[39mshape\u001b[38;5;132;01m}\u001b[39;00m\u001b[38;5;124m\"\u001b[39m)\n",
      "\u001b[1;31mValueError\u001b[0m: x and y must have same first dimension, but have shapes (4,) and (13,)"
     ]
    },
    {
     "data": {
      "image/png": "[encoded data removed]",
      "text/plain": [
       "<Figure size 800x500 with 1 Axes>"
      ]
     },
     "metadata": {},
     "output_type": "display_data"
    }
   ],
   "source": [
    "import matplotlib.pyplot as plt\n",
    "\n",
    "# Now plot the simulated paths if we want too\n",
    "times = [0, 1, 2, 3]\n",
    "\n",
    "plt.figure(figsize=(8, 5))\n",
    "for i in range(S.shape[0]):\n",
    "    plt.plot(times, S[i], marker='o', label=f'Path {i+1}')\n",
    "plt.xlabel('Time')\n",
    "plt.ylabel('Value')\n",
    "plt.title('8 Simulated Paths')\n",
    "plt.legend()\n",
    "plt.grid(True)\n",
    "plt.show()"
   ]
  },
  {
   "cell_type": "code",
   "execution_count": null,
   "id": "603bc083",
   "metadata": {},
   "outputs": [
    {
     "name": "stdout",
     "output_type": "stream",
     "text": [
      "[0.0000 0.0000 0.0700 0.1800 0.0000 0.2000 0.0900 0.0000]\n"
     ]
    }
   ],
   "source": [
    "# Initiate the backward algorithm and calculate the option payoff (exercise/intrinsic value), conditional on not exercising prior\n",
    "\n",
    "# We will calculate the exercise/intrinsic value for each path at maturity\n",
    "# recall that the option to price is a put option\n",
    "intrinsic = np.maximum(K - S[:,-1], 0)\n",
    "\n",
    "# We create a payoff vector that will contain the discounted exercise value.\n",
    "payoff = np.copy(intrinsic)\n",
    "\n",
    "# Assuming payoff is a 2D NumPy array\n",
    "print(np.array2string(payoff, formatter={'float_kind':lambda x: f\"{x:.4f}\"}))\n"
   ]
  },
  {
   "cell_type": "code",
   "execution_count": null,
   "id": "6afaf06d",
   "metadata": {},
   "outputs": [],
   "source": [
    "# Now we set the vector exec_t to maturity for each path\n",
    "exec_t = 3 * np.ones((8,), dtype=int)  # All paths would optimally be exercised at time-step 3 (so far))"
   ]
  },
  {
   "cell_type": "code",
   "execution_count": null,
   "id": "1a8a6973",
   "metadata": {},
   "outputs": [
    {
     "name": "stdout",
     "output_type": "stream",
     "text": [
      "Discounted Cash Flows (DCF):\n",
      " [0.0000 0.0000 0.0659 0.1695 0.0000 0.1884 0.0848 0.0000]\n",
      "In-the-money paths at time t_now:\n",
      " [0 2 3 5 6]\n",
      "X matrix for regression:\n",
      " [[1.0000 1.0800 1.1664]\n",
      " [1.0000 1.0700 1.1449]\n",
      " [1.0000 0.9700 0.9409]\n",
      " [1.0000 0.7700 0.5929]\n",
      " [1.0000 0.8400 0.7056]]\n",
      "y vector for regression:\n",
      " [0.0000 0.0659 0.1695 0.1884 0.0848]\n",
      "Beta coefficients:\n",
      " [-1.0700 2.9834 -1.8136]\n",
      "y_hat (holding value function):\n",
      " [0.0367 0.0459 0.1175 0.1520 0.1564]\n",
      "Intrinsic value for ITM paths:\n",
      " [0.0200 0.0300 0.1300 0.3300 0.2600]\n",
      "Updated exercise times for each path:\n",
      " [3 3 3 2 3 2 2 3]\n",
      "Discounted Cash Flows (DCF):\n",
      " [0.0000 0.0000 0.0621 0.1224 0.0000 0.3108 0.2449 0.0000]\n",
      "In-the-money paths at time t_now:\n",
      " [0 3 5 6 7]\n",
      "X matrix for regression:\n",
      " [[1.0000 1.0900 1.1881]\n",
      " [1.0000 0.9300 0.8649]\n",
      " [1.0000 0.7600 0.5776]\n",
      " [1.0000 0.9200 0.8464]\n",
      " [1.0000 0.8800 0.7744]]\n",
      "y vector for regression:\n",
      " [0.0000 0.1224 0.3108 0.2449 0.0000]\n",
      "Beta coefficients:\n",
      " [2.0375 -3.3354 1.3565]\n",
      "y_hat (holding value function):\n",
      " [0.0135 0.1087 0.2861 0.1170 0.1528]\n",
      "Intrinsic value for ITM paths:\n",
      " [0.0100 0.1700 0.3400 0.1800 0.2200]\n",
      "Updated exercise times for each path:\n",
      " [3 3 3 1 3 1 1 1]\n"
     ]
    }
   ],
   "source": [
    "# Now, we can start the backward algorithm at t=T-1=2, and loop all the way back to t=1\n",
    "\n",
    "# STEP 1\tDiscount the cash flows to time \"t\" based on when it's optimal to exercise for each path\n",
    "# STEP 2\tIdentify the ITM paths in order toregress only on ITM paths\n",
    "# STEP 3\tBuild X matrix for regression\n",
    "# STEP 4\tbuild y vector\n",
    "# STEP 5\tregress to get beta\n",
    "# STEP 6\tCalculate y_hat to approximate the holding value function\n",
    "# STEP 7\tUpdate the optimal exercise time for each path\n",
    "\n",
    "\n",
    "for t_now in range(T-1, 0, -1):\n",
    "\n",
    "    # STEP 1\n",
    "    dcf = np.exp(-r * dt) * payoff  # Discounted cash flow to time t\n",
    "    print(\"Discounted Cash Flows (DCF):\\n\", np.array2string(dcf, formatter={'float_kind':lambda x: f\"{x:.4f}\"}))\n",
    "\n",
    "    # STEP 2\n",
    "    itm_paths = np.where(S[:, t_now] < K)[0]  # Identify ITM paths\n",
    "    print(\"In-the-money paths at time t_now:\\n\", itm_paths)\n",
    "\n",
    "    # STEP 3\n",
    "    # Build X matrix for regression (using the stock prices at time t_now)\n",
    "    # We use a constant, the stock price and the square of the stock price\n",
    "    X = np.column_stack((np.ones(len(itm_paths)), S[itm_paths, t_now], S[itm_paths, t_now]**2))\n",
    "    print(\"X matrix for regression:\\n\", np.array2string(X, formatter={'float_kind':lambda x: f\"{x:.4f}\"}))\n",
    "\n",
    "    # STEP 4\n",
    "    # Build y vector (the discounted cash flows for ITM paths)\n",
    "    y = dcf[itm_paths]\n",
    "    print(\"y vector for regression:\\n\", np.array2string(y, formatter={'float_kind':lambda x: f\"{x:.4f}\"}))\n",
    "\n",
    "    # STEP 5\n",
    "    # Perform regression to get beta coefficients\n",
    "    from numpy.linalg import lstsq\n",
    "    beta = lstsq(X, y, rcond=None)[0]\n",
    "    print(\"Beta coefficients:\\n\", np.array2string(beta, formatter={'float_kind':lambda x: f\"{x:.4f}\"}))\n",
    "\n",
    "    # STEP 6\n",
    "    # Calculate y_hat to approximate the holding value function\n",
    "    y_hat = X @ beta\n",
    "    print(\"y_hat (holding value function):\\n\", np.array2string(y_hat, formatter={'float_kind':lambda x: f\"{x:.4f}\"}))\n",
    "\n",
    "    # Update the payoff for exercised paths to be the current intrinsic value\n",
    "    intrinsic[itm_paths] = np.maximum(K - S[itm_paths, t_now], 0)\n",
    "    # print intrinsic for ITM paths\n",
    "    print(\"Intrinsic value for ITM paths:\\n\", np.array2string(intrinsic[itm_paths], formatter={'float_kind':lambda x: f\"{x:.4f}\"}))\n",
    "\n",
    "    # STEP 7\n",
    "    # Update the optimal exercise time for each path\n",
    "    exec_t[itm_paths] = np.where(y_hat < intrinsic[itm_paths], t_now, exec_t[itm_paths])\n",
    "    payoff = np.where(exec_t == t_now, intrinsic, dcf)\n",
    "\n",
    "\n",
    "    # Print the updated exercise times\n",
    "    print(\"Updated exercise times for each path:\\n\", exec_t)\n",
    "\n",
    "\n"
   ]
  },
  {
   "cell_type": "code",
   "execution_count": null,
   "id": "26f19a9f",
   "metadata": {},
   "outputs": [
    {
     "name": "stdout",
     "output_type": "stream",
     "text": [
      "Discounted Cash Flows (DCF) at t=0:\n",
      " [0.0000 0.0000 0.0585 0.1601 0.0000 0.3202 0.1695 0.2072]\n",
      "Estimated Price of the Put Option:\n",
      " 0.1144\n"
     ]
    }
   ],
   "source": [
    "# Finallym at t=0, we discount the cash flows to time \"t\" based on when it's optimal to exercise for each path\n",
    "t_now = 0  # Current time step (T-3)\n",
    "# STEP 1\n",
    "dcf = np.exp(-r * dt) * payoff\n",
    "print(\"Discounted Cash Flows (DCF) at t=0:\\n\", np.array2string(dcf, formatter={'float_kind':lambda x: f\"{x:.4f}\"}))\n",
    "\n",
    "# STEP 2\n",
    "# To get the price estimate, we simply take the average of the discounted cash flows\n",
    "price_estimate = np.mean(dcf)\n",
    "print(\"Estimated Price of the Put Option:\\n\", f\"{price_estimate:.4f}\")"
   ]
  }
 ],
 "metadata": {
  "kernelspec": {
   "display_name": "base",
   "language": "python",
   "name": "python3"
  },
  "language_info": {
   "codemirror_mode": {
    "name": "ipython",
    "version": 3
   },
   "file_extension": ".py",
   "mimetype": "text/x-python",
   "name": "python",
   "nbconvert_exporter": "python",
   "pygments_lexer": "ipython3",
   "version": "3.12.7"
  }
 },
 "nbformat": 4,
 "nbformat_minor": 5
}
